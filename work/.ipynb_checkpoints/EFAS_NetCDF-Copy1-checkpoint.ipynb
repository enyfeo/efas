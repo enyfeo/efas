{
 "cells": [
  {
   "cell_type": "markdown",
   "metadata": {},
   "source": [
    "# This is an Example of using Xarray on the EFAS NetCDF File"
   ]
  },
  {
   "cell_type": "markdown",
   "metadata": {},
   "source": [
    "First we use Xarray to Open the Dataset so we can see the contents"
   ]
  },
  {
   "cell_type": "code",
   "execution_count": 1,
   "metadata": {},
   "outputs": [],
   "source": [
    "import xarray as xr\n",
    "\n",
    "ds = xr.open_dataset('../data/clim.nc')"
   ]
  },
  {
   "cell_type": "code",
   "execution_count": 2,
   "metadata": {},
   "outputs": [
    {
     "data": {
      "text/plain": [
       "<xarray.Dataset>\n",
       "Dimensions:                       (x: 1000, y: 950)\n",
       "Coordinates:\n",
       "  * y                             (y) float64 5.498e+06 5.492e+06 ... 7.525e+05\n",
       "  * x                             (x) float64 2.502e+06 2.508e+06 ... 7.498e+06\n",
       "    latitude                      (y, x) float32 ...\n",
       "    longitude                     (y, x) float32 ...\n",
       "Data variables:\n",
       "    dis24                         (y, x) float32 ...\n",
       "    lambert_azimuthal_equal_area  int32 ...\n",
       "    areaAll                       (y, x) int8 ...\n",
       "Attributes:\n",
       "    GRIB_edition:            2\n",
       "    GRIB_centre:             ecmf\n",
       "    GRIB_centreDescription:  European Centre for Medium-Range Weather Forecasts\n",
       "    GRIB_subCentre:          0\n",
       "    Conventions:             CF-1.7\n",
       "    institution:             European Centre for Medium-Range Weather Forecasts\n",
       "    history:                 2019-03-15T09:39:24 GRIB to CDM+CF via cfgrib-0...."
      ]
     },
     "execution_count": 2,
     "metadata": {},
     "output_type": "execute_result"
    }
   ],
   "source": [
    "ds"
   ]
  },
  {
   "cell_type": "markdown",
   "metadata": {},
   "source": [
    "We can see that the file contains X and Y, Latitude and Longitude, Information about the Lambert_Azimuthal_Equal_Area Projection and a variable called dis24. Discharge over the last 24 Hour Period.\n",
    "\n",
    "To Access the values in the file we can simply type"
   ]
  },
  {
   "cell_type": "code",
   "execution_count": 3,
   "metadata": {},
   "outputs": [
    {
     "data": {
      "text/plain": [
       "<xarray.DataArray 'dis24' (y: 950, x: 1000)>\n",
       "[950000 values with dtype=float32]\n",
       "Coordinates:\n",
       "  * y          (y) float64 5.498e+06 5.492e+06 5.488e+06 ... 7.575e+05 7.525e+05\n",
       "  * x          (x) float64 2.502e+06 2.508e+06 2.512e+06 ... 7.492e+06 7.498e+06\n",
       "    latitude   (y, x) float32 ...\n",
       "    longitude  (y, x) float32 ...\n",
       "Attributes:\n",
       "    GRIB_paramId:                    240024\n",
       "    GRIB_shortName:                  dis24\n",
       "    GRIB_units:                      m**3 s**-1\n",
       "    GRIB_name:                       Mean discharge in the last 24 hours\n",
       "    GRIB_cfVarName:                  dis24\n",
       "    GRIB_dataType:                   sfo\n",
       "    GRIB_missingValue:               9999\n",
       "    GRIB_numberOfPoints:             950000\n",
       "    GRIB_typeOfLevel:                surface\n",
       "    GRIB_NV:                         0\n",
       "    GRIB_stepUnits:                  1\n",
       "    GRIB_stepType:                   avg\n",
       "    GRIB_gridType:                   lambert_azimuthal_equal_area\n",
       "    GRIB_gridDefinitionDescription:  Lambert azimuthal equal area projection \n",
       "    long_name:                       Mean discharge in the last 24 hours\n",
       "    units:                           m**3 s**-1\n",
       "    grid_mapping:                    lambert_azimuthal_equal_area"
      ]
     },
     "execution_count": 3,
     "metadata": {},
     "output_type": "execute_result"
    }
   ],
   "source": [
    "ds.dis24"
   ]
  },
  {
   "cell_type": "markdown",
   "metadata": {},
   "source": [
    "Which lists all the Data and Metadata about this variable.\n",
    "\n",
    "We can also look at the values it holds"
   ]
  },
  {
   "cell_type": "code",
   "execution_count": 4,
   "metadata": {},
   "outputs": [
    {
     "data": {
      "text/plain": [
       "array([[nan, nan, nan, ..., nan, nan, nan],\n",
       "       [nan, nan, nan, ..., nan, nan, nan],\n",
       "       [nan, nan, nan, ..., nan, nan, nan],\n",
       "       ...,\n",
       "       [nan, nan, nan, ..., nan, nan, nan],\n",
       "       [nan, nan, nan, ..., nan, nan, nan],\n",
       "       [nan, nan, nan, ..., nan, nan, nan]], dtype=float32)"
      ]
     },
     "execution_count": 4,
     "metadata": {},
     "output_type": "execute_result"
    }
   ],
   "source": [
    "ds.dis24.values"
   ]
  },
  {
   "cell_type": "code",
   "execution_count": 5,
   "metadata": {},
   "outputs": [
    {
     "data": {
      "text/plain": [
       "(950, 1000)"
      ]
     },
     "execution_count": 5,
     "metadata": {},
     "output_type": "execute_result"
    }
   ],
   "source": [
    "ds.dis24.shape"
   ]
  },
  {
   "cell_type": "markdown",
   "metadata": {},
   "source": [
    "As the veriable is actually a dataarray we can access the data with in by simply doing"
   ]
  },
  {
   "cell_type": "code",
   "execution_count": 6,
   "metadata": {},
   "outputs": [
    {
     "data": {
      "text/plain": [
       "<xarray.DataArray 'dis24' ()>\n",
       "array(0.086267, dtype=float32)\n",
       "Coordinates:\n",
       "    y          float64 2.998e+06\n",
       "    x          float64 5.502e+06\n",
       "    latitude   float32 ...\n",
       "    longitude  float32 ...\n",
       "Attributes:\n",
       "    GRIB_paramId:                    240024\n",
       "    GRIB_shortName:                  dis24\n",
       "    GRIB_units:                      m**3 s**-1\n",
       "    GRIB_name:                       Mean discharge in the last 24 hours\n",
       "    GRIB_cfVarName:                  dis24\n",
       "    GRIB_dataType:                   sfo\n",
       "    GRIB_missingValue:               9999\n",
       "    GRIB_numberOfPoints:             950000\n",
       "    GRIB_typeOfLevel:                surface\n",
       "    GRIB_NV:                         0\n",
       "    GRIB_stepUnits:                  1\n",
       "    GRIB_stepType:                   avg\n",
       "    GRIB_gridType:                   lambert_azimuthal_equal_area\n",
       "    GRIB_gridDefinitionDescription:  Lambert azimuthal equal area projection \n",
       "    long_name:                       Mean discharge in the last 24 hours\n",
       "    units:                           m**3 s**-1\n",
       "    grid_mapping:                    lambert_azimuthal_equal_area"
      ]
     },
     "execution_count": 6,
     "metadata": {},
     "output_type": "execute_result"
    }
   ],
   "source": [
    "ds.dis24[500,600]"
   ]
  },
  {
   "cell_type": "markdown",
   "metadata": {},
   "source": [
    "But we dont want all the metadata so we can just get the value"
   ]
  },
  {
   "cell_type": "code",
   "execution_count": 7,
   "metadata": {},
   "outputs": [
    {
     "data": {
      "text/plain": [
       "array(0.08626748, dtype=float32)"
      ]
     },
     "execution_count": 7,
     "metadata": {},
     "output_type": "execute_result"
    }
   ],
   "source": [
    "ds.dis24[500,600].values"
   ]
  },
  {
   "cell_type": "markdown",
   "metadata": {},
   "source": [
    "We can access any dataset attributes as you would any normal dataarray."
   ]
  },
  {
   "cell_type": "code",
   "execution_count": 8,
   "metadata": {},
   "outputs": [
    {
     "data": {
      "text/plain": [
       "Frozen(SortedKeysDict({'y': 950, 'x': 1000}))"
      ]
     },
     "execution_count": 8,
     "metadata": {},
     "output_type": "execute_result"
    }
   ],
   "source": [
    "ds.dims"
   ]
  },
  {
   "cell_type": "code",
   "execution_count": 9,
   "metadata": {},
   "outputs": [
    {
     "data": {
      "text/plain": [
       "'European Centre for Medium-Range Weather Forecasts'"
      ]
     },
     "execution_count": 9,
     "metadata": {},
     "output_type": "execute_result"
    }
   ],
   "source": [
    "ds.GRIB_centreDescription"
   ]
  },
  {
   "cell_type": "code",
   "execution_count": 10,
   "metadata": {},
   "outputs": [],
   "source": [
    "import cartopy\n"
   ]
  },
  {
   "cell_type": "code",
   "execution_count": null,
   "metadata": {},
   "outputs": [],
   "source": []
  }
 ],
 "metadata": {
  "kernelspec": {
   "display_name": "Python 3",
   "language": "python",
   "name": "python3"
  },
  "language_info": {
   "codemirror_mode": {
    "name": "ipython",
    "version": 3
   },
   "file_extension": ".py",
   "mimetype": "text/x-python",
   "name": "python",
   "nbconvert_exporter": "python",
   "pygments_lexer": "ipython3",
   "version": "3.6.5"
  }
 },
 "nbformat": 4,
 "nbformat_minor": 2
}
