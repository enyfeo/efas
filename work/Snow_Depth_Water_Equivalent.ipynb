{
 "cells": [
  {
   "cell_type": "markdown",
   "metadata": {},
   "source": [
    "# Snow Depth Water Equivalent"
   ]
  },
  {
   "cell_type": "markdown",
   "metadata": {},
   "source": [
    "This is just a quick demonstration of how quickly we can plot data easily directly out of the NetCDF File\n",
    "While Matplotlib creates nice plots, it is sometimes not completely neccesary.\n",
    "\n",
    "While this does not show the EFAS Data using the Lambert Projection it may be of use to some people.\n",
    "Xarray deals pretty well with labelling axis in a reasonable way.\n",
    "\n",
    "We will now load in a dataset containing one forecast based on ECWMF High Resolution for all time steps."
   ]
  },
  {
   "cell_type": "code",
   "execution_count": null,
   "metadata": {},
   "outputs": [],
   "source": [
    "import xarray as xr\n",
    "ds = xr.open_dataset('../data/snow.nc')"
   ]
  },
  {
   "cell_type": "code",
   "execution_count": null,
   "metadata": {},
   "outputs": [],
   "source": [
    "ds"
   ]
  },
  {
   "cell_type": "code",
   "execution_count": null,
   "metadata": {},
   "outputs": [],
   "source": [
    "%matplotlib notebook\n",
    "import numpy as np\n",
    "import matplotlib\n",
    "import matplotlib.pyplot as plot\n",
    "\n",
    "ds2 = xr.Dataset()\n",
    "ds2['sd'] = ds.sd[0:2,:,:]    #Subset the data to only retrieve the first 2 steps \n",
    "    \n",
    "fig=plot.figure(figsize=(10,10),num='EFAS Snow Depth Water Equivalent based on ECMWF High Res ')    \n",
    "for step,num in zip(ds2.sd,range(1,ds2.step.size+1)):\n",
    "    ax = fig.add_subplot(2,1,num)     #Subplot X,Y, if we change the subset we need to give a sensible value here.\n",
    "    step.plot()                       #Here step.plot() is the equivalent of saying ds.sd[0,:,:].plot()\n",
    "    plot.show()\n",
    "    plot.savefig('../plots/sd_'+np.datetime_as_string(step.valid_time.values,'h')+'.png')\n",
    "        \n",
    "    # And just in case anybody would like to save the plots we can do so as above.\n"
   ]
  },
  {
   "cell_type": "markdown",
   "metadata": {},
   "source": [
    "Let's see what is in the plots directory"
   ]
  },
  {
   "cell_type": "code",
   "execution_count": null,
   "metadata": {},
   "outputs": [],
   "source": [
    "import os\n",
    "os.listdir('../plots/')"
   ]
  },
  {
   "cell_type": "markdown",
   "metadata": {},
   "source": [
    "And lets reopen our plot "
   ]
  },
  {
   "cell_type": "code",
   "execution_count": null,
   "metadata": {},
   "outputs": [],
   "source": [
    "%matplotlib notebook\n",
    "import matplotlib.image as mpimg\n",
    "plot.imshow(mpimg.imread('../plots/sd_2019-04-01T00.png'))\n",
    "plot.show()"
   ]
  }
 ],
 "metadata": {
  "kernelspec": {
   "display_name": "Python 3",
   "language": "python",
   "name": "python3"
  },
  "language_info": {
   "codemirror_mode": {
    "name": "ipython",
    "version": 3
   },
   "file_extension": ".py",
   "mimetype": "text/x-python",
   "name": "python",
   "nbconvert_exporter": "python",
   "pygments_lexer": "ipython3",
   "version": "3.6.5"
  }
 },
 "nbformat": 4,
 "nbformat_minor": 2
}
