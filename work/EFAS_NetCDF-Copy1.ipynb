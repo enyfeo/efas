{
 "cells": [
  {
   "cell_type": "markdown",
   "metadata": {},
   "source": [
    "# This is an Example of using Xarray on the EFAS NetCDF File"
   ]
  },
  {
   "cell_type": "markdown",
   "metadata": {},
   "source": [
    "First we use Xarray to Open the Dataset so we can see the contents"
   ]
  },
  {
   "cell_type": "code",
   "execution_count": 18,
   "metadata": {
    "collapsed": true
   },
   "outputs": [],
   "source": [
    "import xarray as xr\n",
    "\n",
    "ds = xr.open_dataset('/home/ma/maca/clim.nc')"
   ]
  },
  {
   "cell_type": "code",
   "execution_count": 19,
   "metadata": {},
   "outputs": [
    {
     "data": {
      "text/plain": [
       "<xarray.Dataset>\n",
       "Dimensions:                       (x: 1000, y: 950)\n",
       "Coordinates:\n",
       "  * y                             (y) float64 5.498e+06 5.492e+06 5.488e+06 ...\n",
       "  * x                             (x) float64 2.502e+06 2.508e+06 2.512e+06 ...\n",
       "    time                          datetime64[ns] 1990-01-01T06:00:00\n",
       "    step                          timedelta64[ns] 1 days\n",
       "    surface                       int64 0\n",
       "    latitude                      (y, x) float32 66.9821 67.0096 67.037 ...\n",
       "    longitude                     (y, x) float32 -35.034 -34.9443 -34.8543 ...\n",
       "    valid_time                    datetime64[ns] 1990-01-02T06:00:00\n",
       "Data variables:\n",
       "    dis24                         (y, x) float32 nan nan nan nan nan nan nan ...\n",
       "    lambert_azimuthal_equal_area  int32 -2147483647\n",
       "    land_binary_mask              (y, x) int8 0 0 0 0 0 0 0 0 0 0 0 0 0 0 0 ...\n",
       "Attributes:\n",
       "    GRIB_edition: 2\n",
       "    GRIB_centre: ecmf\n",
       "    GRIB_centreDescription: European Centre for Medium-Range Weather Forecasts\n",
       "    GRIB_subCentre: 0\n",
       "    Conventions: CF-1.7\n",
       "    institution: European Centre for Medium-Range Weather Forecasts\n",
       "    history: 2019-04-08T09:22:12 GRIB to CDM+CF via cfgrib-0.9.6.1.post1/ecCodes-2.12.0 with {\"source\": \"/home/ma/maca/dev/efas_netcdf_tool/convert_to_netcdf/clim.grib\", \"filter_by_keys\": {}, \"encode_cf\": [\"parameter\", \"time\", \"geography\", \"vertical\"]}"
      ]
     },
     "execution_count": 19,
     "metadata": {},
     "output_type": "execute_result"
    }
   ],
   "source": [
    "ds"
   ]
  },
  {
   "cell_type": "markdown",
   "metadata": {},
   "source": [
    "We can see that the file contains X and Y, Latitude and Longitude, Information about the Lambert_Azimuthal_Equal_Area Projection and a variable called dis24. Discharge over the last 24 Hour Period.\n",
    "\n",
    "To Access the values in the file we can simply type"
   ]
  },
  {
   "cell_type": "code",
   "execution_count": 17,
   "metadata": {},
   "outputs": [
    {
     "ename": "AttributeError",
     "evalue": "'module' object has no attribute 'countourf'",
     "output_type": "error",
     "traceback": [
      "\u001b[0;31m---------------------------------------------------------------------------\u001b[0m",
      "\u001b[0;31mAttributeError\u001b[0m                            Traceback (most recent call last)",
      "\u001b[0;32m<ipython-input-17-5cc2320c07ac>\u001b[0m in \u001b[0;36m<module>\u001b[0;34m()\u001b[0m\n\u001b[1;32m      6\u001b[0m \u001b[0my\u001b[0m\u001b[0;34m=\u001b[0m\u001b[0mds\u001b[0m\u001b[0;34m.\u001b[0m\u001b[0mlatitude\u001b[0m\u001b[0;34m.\u001b[0m\u001b[0mvalues\u001b[0m\u001b[0;34m\u001b[0m\u001b[0m\n\u001b[1;32m      7\u001b[0m \u001b[0mcmap\u001b[0m \u001b[0;34m=\u001b[0m \u001b[0mplot\u001b[0m\u001b[0;34m.\u001b[0m\u001b[0mcm\u001b[0m\u001b[0;34m.\u001b[0m\u001b[0mget_cmap\u001b[0m\u001b[0;34m(\u001b[0m\u001b[0;34m'jet'\u001b[0m\u001b[0;34m)\u001b[0m\u001b[0;34m\u001b[0m\u001b[0m\n\u001b[0;32m----> 8\u001b[0;31m \u001b[0msc\u001b[0m\u001b[0;34m=\u001b[0m\u001b[0mplot\u001b[0m\u001b[0;34m.\u001b[0m\u001b[0mcountourf\u001b[0m\u001b[0;34m(\u001b[0m\u001b[0mx\u001b[0m\u001b[0;34m,\u001b[0m\u001b[0my\u001b[0m\u001b[0;34m,\u001b[0m\u001b[0mvar\u001b[0m\u001b[0;34m,\u001b[0m\u001b[0mcmap\u001b[0m\u001b[0;34m=\u001b[0m\u001b[0mcmap\u001b[0m\u001b[0;34m,\u001b[0m\u001b[0mmarker\u001b[0m\u001b[0;34m=\u001b[0m\u001b[0;34m'.'\u001b[0m\u001b[0;34m)\u001b[0m\u001b[0;34m\u001b[0m\u001b[0m\n\u001b[0m\u001b[1;32m      9\u001b[0m \u001b[0mplot\u001b[0m\u001b[0;34m.\u001b[0m\u001b[0mshow\u001b[0m\u001b[0;34m(\u001b[0m\u001b[0;34m)\u001b[0m\u001b[0;34m\u001b[0m\u001b[0m\n\u001b[1;32m     10\u001b[0m \u001b[0;34m\u001b[0m\u001b[0m\n",
      "\u001b[0;31mAttributeError\u001b[0m: 'module' object has no attribute 'countourf'"
     ]
    }
   ],
   "source": [
    "import matplotlib.pyplot as plot\n",
    "from mpl_toolkits.basemap import Basemap,cm\n",
    "\n",
    "var=ds.dis24.values\n",
    "x=ds.longitude.values\n",
    "y=ds.latitude.values\n",
    "cmap = plot.cm.get_cmap('jet')\n",
    "sc=plot.countourf(x,y,var,cmap=cmap,marker='.')\n",
    "plot.show()\n",
    "\n"
   ]
  },
  {
   "cell_type": "markdown",
   "metadata": {},
   "source": [
    "Which lists all the Data and Metadata about this variable.\n",
    "\n",
    "We can also look at the values it holds"
   ]
  }
 ],
 "metadata": {
  "kernelspec": {
   "display_name": "Python 2",
   "language": "python",
   "name": "python2"
  },
  "language_info": {
   "codemirror_mode": {
    "name": "ipython",
    "version": 2
   },
   "file_extension": ".py",
   "mimetype": "text/x-python",
   "name": "python",
   "nbconvert_exporter": "python",
   "pygments_lexer": "ipython2",
   "version": "2.7.12"
  }
 },
 "nbformat": 4,
 "nbformat_minor": 2
}
