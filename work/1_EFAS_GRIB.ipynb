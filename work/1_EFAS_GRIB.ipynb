{
 "cells": [
  {
   "cell_type": "markdown",
   "metadata": {},
   "source": [
    "# Example - Opening EFAS Grib File in Python"
   ]
  },
  {
   "cell_type": "markdown",
   "metadata": {},
   "source": [
    "This example will demonstrate using ECCODES and CFGRIB Python module in order to open the \n",
    "EFAS Grib file as an Xarray Dataset"
   ]
  },
  {
   "cell_type": "code",
   "execution_count": 1,
   "metadata": {},
   "outputs": [],
   "source": [
    "import xarray as xr\n",
    "import eccodes\n",
    "import cfgrib\n",
    "\n",
    "ds = xr.open_dataset('../data/mars.grib',engine='cfgrib',backend_kwargs={'indexpath':''})"
   ]
  },
  {
   "cell_type": "markdown",
   "metadata": {},
   "source": [
    "We use the cfgrib engine which uses the eccodes library to open the grib file and read it into Xarray in the same way  as a NetCDF would be read.\n",
    "\n",
    "However the EFAS Grib values are in 1 dimension of 950000 points and need to be reshaped to two dimensions (950,1000)."
   ]
  },
  {
   "cell_type": "code",
   "execution_count": 2,
   "metadata": {},
   "outputs": [
    {
     "data": {
      "text/plain": [
       "<xarray.Dataset>\n",
       "Dimensions:     (time: 15, values: 950000)\n",
       "Coordinates:\n",
       "  * time        (time) datetime64[ns] 2018-11-15T06:00:00 ... 2018-11-29T06:00:00\n",
       "    step        timedelta64[ns] ...\n",
       "    surface     int64 ...\n",
       "    latitude    (values) float64 ...\n",
       "    longitude   (values) float64 ...\n",
       "    valid_time  (time) datetime64[ns] ...\n",
       "Dimensions without coordinates: values\n",
       "Data variables:\n",
       "    dis24       (time, values) float32 ...\n",
       "Attributes:\n",
       "    GRIB_edition:            2\n",
       "    GRIB_centre:             ecmf\n",
       "    GRIB_centreDescription:  European Centre for Medium-Range Weather Forecasts\n",
       "    GRIB_subCentre:          0\n",
       "    Conventions:             CF-1.7\n",
       "    institution:             European Centre for Medium-Range Weather Forecasts\n",
       "    history:                 2019-05-16T18:31:46 GRIB to CDM+CF via cfgrib-0...."
      ]
     },
     "execution_count": 2,
     "metadata": {},
     "output_type": "execute_result"
    }
   ],
   "source": [
    "ds"
   ]
  },
  {
   "cell_type": "markdown",
   "metadata": {},
   "source": [
    "We can access the values of the grib file as such"
   ]
  },
  {
   "cell_type": "code",
   "execution_count": 3,
   "metadata": {},
   "outputs": [
    {
     "data": {
      "text/plain": [
       "array([66.982143  , 67.00974039, 67.03729255, ..., 23.89754271,\n",
       "       23.8797313 , 23.86189448])"
      ]
     },
     "execution_count": 3,
     "metadata": {},
     "output_type": "execute_result"
    }
   ],
   "source": [
    "ds.latitude.values"
   ]
  },
  {
   "cell_type": "markdown",
   "metadata": {},
   "source": [
    "We can view all attributes and dimensions of the data variable by calling the variable from the dataset."
   ]
  },
  {
   "cell_type": "code",
   "execution_count": 4,
   "metadata": {},
   "outputs": [
    {
     "data": {
      "text/plain": [
       "<xarray.DataArray 'dis24' (time: 15, values: 950000)>\n",
       "[14250000 values with dtype=float32]\n",
       "Coordinates:\n",
       "  * time        (time) datetime64[ns] 2018-11-15T06:00:00 ... 2018-11-29T06:00:00\n",
       "    step        timedelta64[ns] ...\n",
       "    surface     int64 ...\n",
       "    latitude    (values) float64 66.98 67.01 67.04 67.06 ... 23.9 23.88 23.86\n",
       "    longitude   (values) float64 ...\n",
       "    valid_time  (time) datetime64[ns] ...\n",
       "Dimensions without coordinates: values\n",
       "Attributes:\n",
       "    GRIB_paramId:                    240024\n",
       "    GRIB_shortName:                  dis24\n",
       "    GRIB_units:                      m**3 s**-1\n",
       "    GRIB_name:                       Mean discharge in the last 24 hours\n",
       "    GRIB_cfVarName:                  dis24\n",
       "    GRIB_dataType:                   sfo\n",
       "    GRIB_missingValue:               9999\n",
       "    GRIB_numberOfPoints:             950000\n",
       "    GRIB_typeOfLevel:                surface\n",
       "    GRIB_NV:                         0\n",
       "    GRIB_stepUnits:                  1\n",
       "    GRIB_stepType:                   avg\n",
       "    GRIB_gridType:                   lambert_azimuthal_equal_area\n",
       "    GRIB_gridDefinitionDescription:  Lambert azimuthal equal area projection \n",
       "    long_name:                       Mean discharge in the last 24 hours\n",
       "    units:                           m**3 s**-1"
      ]
     },
     "execution_count": 4,
     "metadata": {},
     "output_type": "execute_result"
    }
   ],
   "source": [
    "ds.dis24"
   ]
  }
 ],
 "metadata": {
  "kernelspec": {
   "display_name": "Python 3",
   "language": "python",
   "name": "python3"
  },
  "language_info": {
   "codemirror_mode": {
    "name": "ipython",
    "version": 3
   },
   "file_extension": ".py",
   "mimetype": "text/x-python",
   "name": "python",
   "nbconvert_exporter": "python",
   "pygments_lexer": "ipython3",
   "version": "3.6.5"
  }
 },
 "nbformat": 4,
 "nbformat_minor": 2
}
