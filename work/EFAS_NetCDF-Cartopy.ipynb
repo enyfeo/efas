{
 "cells": [
  {
   "cell_type": "markdown",
   "metadata": {},
   "source": [
    "# This is an Example of using Xarray on the EFAS NetCDF File"
   ]
  },
  {
   "cell_type": "markdown",
   "metadata": {},
   "source": [
    "First we use Xarray to Open the Dataset so we can see the contents"
   ]
  },
  {
   "cell_type": "code",
   "execution_count": 85,
   "metadata": {},
   "outputs": [
    {
     "data": {
      "text/plain": [
       "<xarray.Dataset>\n",
       "Dimensions:                       (x: 1000, y: 950)\n",
       "Coordinates:\n",
       "  * y                             (y) float64 5.498e+06 5.492e+06 5.488e+06 ...\n",
       "  * x                             (x) float64 2.502e+06 2.508e+06 2.512e+06 ...\n",
       "    time                          datetime64[ns] 1990-01-01T06:00:00\n",
       "    step                          timedelta64[ns] 1 days\n",
       "    surface                       int64 0\n",
       "    latitude                      (y, x) float32 66.9821 67.0096 67.037 ...\n",
       "    longitude                     (y, x) float32 -35.034 -34.9443 -34.8543 ...\n",
       "    valid_time                    datetime64[ns] 1990-01-02T06:00:00\n",
       "Data variables:\n",
       "    dis24                         (y, x) float32 nan nan nan nan nan nan nan ...\n",
       "    lambert_azimuthal_equal_area  int32 -2147483647\n",
       "    land_binary_mask              (y, x) int8 0 0 0 0 0 0 0 0 0 0 0 0 0 0 0 ...\n",
       "Attributes:\n",
       "    GRIB_edition: 2\n",
       "    GRIB_centre: ecmf\n",
       "    GRIB_centreDescription: European Centre for Medium-Range Weather Forecasts\n",
       "    GRIB_subCentre: 0\n",
       "    Conventions: CF-1.7\n",
       "    institution: European Centre for Medium-Range Weather Forecasts\n",
       "    history: 2019-04-08T09:22:12 GRIB to CDM+CF via cfgrib-0.9.6.1.post1/ecCodes-2.12.0 with {\"source\": \"/home/ma/maca/dev/efas_netcdf_tool/convert_to_netcdf/clim.grib\", \"filter_by_keys\": {}, \"encode_cf\": [\"parameter\", \"time\", \"geography\", \"vertical\"]}"
      ]
     },
     "execution_count": 85,
     "metadata": {},
     "output_type": "execute_result"
    }
   ],
   "source": [
    "import xarray as xr\n",
    "\n",
    "ds = xr.open_dataset('/home/ma/maca/clim.nc')\n",
    "ds"
   ]
  },
  {
   "cell_type": "code",
   "execution_count": 128,
   "metadata": {},
   "outputs": [
    {
     "data": {
      "image/png": "[encoded data removed]",
      "text/plain": [
       "<matplotlib.figure.Figure at 0x7fce991cca10>"
      ]
     },
     "metadata": {},
     "output_type": "display_data"
    }
   ],
   "source": [
    "import matplotlib.pyplot as plt\n",
    "from mpl_toolkits.basemap import Basemap,cm\n",
    "import numpy as np\n",
    "import pandas as pd\n",
    "\n",
    "from cartopy import config\n",
    "import cartopy.crs as ccrs\n",
    "\n",
    "\n",
    "dis24 = ds.dis24.values[:, :]\n",
    "lats = ds.latitude.values\n",
    "lons = ds.longitude.values\n",
    "\n",
    "#plt.gca\n",
    "date=pd.Timestamp(ds.dis24.time.data)\n",
    "\n",
    "plt.figure(str(date))\n",
    "\n",
    "plt.suptitle('Mean Discharge over 24 hour period for {s}'.format(s=date))\n",
    "ax = plt.axes(projection=ccrs.LambertAzimuthalEqualArea())\n",
    "cmap=plt.cm.jet\n",
    "\n",
    "cs = plt.contourf(lons, lats, dis24,17,vmin=0.0,vmax=16800,\n",
    "             transform=ccrs.LambertAzimuthalEqualArea(),cmap=cmap)\n",
    "cbar = plt.colorbar(cs)\n",
    "cbar.set_label('m$^3$ s$^-$$^1$')\n",
    "ax.coastlines()\n",
    "\n",
    "plt.show()"
   ]
  },
  {
   "cell_type": "code",
   "execution_count": 83,
   "metadata": {},
   "outputs": [
    {
     "data": {
      "text/plain": [
       "<xarray.DataArray 'dis24' ()>\n",
       "array(16725.431640625, dtype=float32)"
      ]
     },
     "execution_count": 83,
     "metadata": {},
     "output_type": "execute_result"
    }
   ],
   "source": [
    "ds.dis24.max()"
   ]
  },
  {
   "cell_type": "code",
   "execution_count": 84,
   "metadata": {},
   "outputs": [
    {
     "data": {
      "text/plain": [
       "<xarray.DataArray 'dis24' ()>\n",
       "array(0.00032997943344525993, dtype=float32)"
      ]
     },
     "execution_count": 84,
     "metadata": {},
     "output_type": "execute_result"
    }
   ],
   "source": [
    "ds.dis24.min()"
   ]
  },
  {
   "cell_type": "code",
   "execution_count": 129,
   "metadata": {},
   "outputs": [
    {
     "data": {
      "text/plain": [
       "u'm**3 s**-1'"
      ]
     },
     "execution_count": 129,
     "metadata": {},
     "output_type": "execute_result"
    }
   ],
   "source": [
    "ds.dis24.units"
   ]
  },
  {
   "cell_type": "code",
   "execution_count": null,
   "metadata": {
    "collapsed": true
   },
   "outputs": [],
   "source": []
  }
 ],
 "metadata": {
  "kernelspec": {
   "display_name": "Python 2",
   "language": "python",
   "name": "python2"
  },
  "language_info": {
   "codemirror_mode": {
    "name": "ipython",
    "version": 2
   },
   "file_extension": ".py",
   "mimetype": "text/x-python",
   "name": "python",
   "nbconvert_exporter": "python",
   "pygments_lexer": "ipython2",
   "version": "2.7.12"
  }
 },
 "nbformat": 4,
 "nbformat_minor": 2
}
