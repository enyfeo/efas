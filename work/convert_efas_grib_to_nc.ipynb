{
 "cells": [
  {
   "cell_type": "markdown",
   "metadata": {},
   "source": [
    "# Converting the EFAS Grib to NetCDF\n",
    "\n",
    "The Tool used to convert grib files to netcdf can be downloaded via github, please see the documentation pages.\n",
    "As it requires the installation of eccodes and a few other dependencies we have included it here to make things easier.\n",
    "\n",
    "The tool takes 2 input files, one is provided for you and the other can be any EFAS grib file\n",
    "downloaded from MARS, CDS or FTP."
   ]
  },
  {
   "cell_type": "code",
   "execution_count": 1,
   "metadata": {},
   "outputs": [],
   "source": [
    "import efas_netcdf_tool.convert_to_netcdf as cn"
   ]
  },
  {
   "cell_type": "markdown",
   "metadata": {},
   "source": [
    "First we import the tool so that we can call it in Python\n",
    "\n",
    "Now we define the arguments to call the converter.\n",
    "\n",
    "EFAS_AREA is a static file provided with the tool that contains the Geographical bounds of the\n",
    "Lambert Azimuthal Equal Area Projection used by EFAS\n",
    "\n",
    "input is your source grib file\n",
    "output is the file you want to create in netcdf"
   ]
  },
  {
   "cell_type": "code",
   "execution_count": 2,
   "metadata": {},
   "outputs": [],
   "source": [
    "efas_area = '../efas_netcdf_tool/efas_area.nc'\n",
    "\n",
    "input = '../data/mars.grib'\n",
    "output = '../data/mars.nc'"
   ]
  },
  {
   "cell_type": "markdown",
   "metadata": {},
   "source": [
    "Now we will call the function to convert the grib file to netcdf"
   ]
  },
  {
   "cell_type": "code",
   "execution_count": 3,
   "metadata": {},
   "outputs": [],
   "source": [
    "cn.main(efas_area,input,output)"
   ]
  },
  {
   "cell_type": "markdown",
   "metadata": {},
   "source": [
    "Now we can open the file with xarray, As it is a NetCDF we do not need cfgrib"
   ]
  },
  {
   "cell_type": "code",
   "execution_count": 4,
   "metadata": {},
   "outputs": [
    {
     "data": {
      "text/plain": [
       "<xarray.Dataset>\n",
       "Dimensions:                       (x: 1000, y: 950)\n",
       "Coordinates:\n",
       "  * y                             (y) float64 5.498e+06 5.492e+06 ... 7.525e+05\n",
       "  * x                             (x) float64 2.502e+06 2.508e+06 ... 7.498e+06\n",
       "    time                          datetime64[ns] ...\n",
       "    step                          timedelta64[ns] ...\n",
       "    surface                       int64 ...\n",
       "    latitude                      (y, x) float32 ...\n",
       "    longitude                     (y, x) float32 ...\n",
       "    valid_time                    datetime64[ns] ...\n",
       "Data variables:\n",
       "    dis24                         (y, x) float32 ...\n",
       "    lambert_azimuthal_equal_area  int32 ...\n",
       "    land_binary_mask              (y, x) int8 ...\n",
       "Attributes:\n",
       "    GRIB_edition:            2\n",
       "    GRIB_centre:             ecmf\n",
       "    GRIB_centreDescription:  European Centre for Medium-Range Weather Forecasts\n",
       "    GRIB_subCentre:          0\n",
       "    Conventions:             CF-1.7\n",
       "    institution:             European Centre for Medium-Range Weather Forecasts\n",
       "    history:                 2019-04-09T19:37:23 GRIB to CDM+CF via cfgrib-0...."
      ]
     },
     "execution_count": 4,
     "metadata": {},
     "output_type": "execute_result"
    }
   ],
   "source": [
    "import xarray as xr\n",
    "ds = xr.open_dataset(output)\n",
    "ds"
   ]
  },
  {
   "cell_type": "markdown",
   "metadata": {},
   "source": [
    "We can see using the ds.history attribute when the conversion happened and what versions of cfgrib and eccodes were used."
   ]
  },
  {
   "cell_type": "code",
   "execution_count": 5,
   "metadata": {},
   "outputs": [
    {
     "data": {
      "text/plain": [
       "'2019-04-09T19:37:23 GRIB to CDM+CF via cfgrib-0.9.6.post1/ecCodes-2.12.0 with {\"source\": \"/home/jovyan/data/mars.grib\", \"filter_by_keys\": {}, \"encode_cf\": [\"parameter\", \"time\", \"geography\", \"vertical\"]}'"
      ]
     },
     "execution_count": 5,
     "metadata": {},
     "output_type": "execute_result"
    }
   ],
   "source": [
    "ds.history"
   ]
  }
 ],
 "metadata": {
  "kernelspec": {
   "display_name": "Python 3",
   "language": "python",
   "name": "python3"
  },
  "language_info": {
   "codemirror_mode": {
    "name": "ipython",
    "version": 3
   },
   "file_extension": ".py",
   "mimetype": "text/x-python",
   "name": "python",
   "nbconvert_exporter": "python",
   "pygments_lexer": "ipython3",
   "version": "3.6.5"
  }
 },
 "nbformat": 4,
 "nbformat_minor": 2
}
