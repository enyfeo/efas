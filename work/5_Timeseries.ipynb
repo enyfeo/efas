{
 "cells": [
  {
   "cell_type": "markdown",
   "metadata": {},
   "source": [
    "# Discharge 1 Forecast all steps\n"
   ]
  },
  {
   "cell_type": "markdown",
   "metadata": {},
   "source": [
    "First we are going to open a CSV File containing EFAS Stations.\n",
    "\n",
    "We will select station 308."
   ]
  },
  {
   "cell_type": "code",
   "execution_count": null,
   "metadata": {},
   "outputs": [],
   "source": [
    "import pandas as pd\n",
    "from random import sample\n",
    "stations = pd.read_csv('../static/EFAS_calib_stations_metadata.csv',encoding='iso-8859-1',index_col=None)\n",
    "#station = stations.sample(n=1) # We can randomly choose a station\n",
    "station=stations[stations['ObsID'] == 308] # We have chosen a station for consistency\n",
    "station\n"
   ]
  },
  {
   "cell_type": "markdown",
   "metadata": {},
   "source": [
    "We will open a dataset containing the ECMWF Ensemble Forecast (50 members) containg River Dicharge over 24 hours from Step 0 to 360 from the forecast 15th November 2018 00Z"
   ]
  },
  {
   "cell_type": "code",
   "execution_count": null,
   "metadata": {},
   "outputs": [],
   "source": [
    "import xarray as xr\n",
    "ds = xr.open_dataset('../data/eue_15111800.nc')"
   ]
  },
  {
   "cell_type": "markdown",
   "metadata": {},
   "source": [
    "We can quickly see the variable's of the file using ds.data_vars"
   ]
  },
  {
   "cell_type": "code",
   "execution_count": null,
   "metadata": {},
   "outputs": [],
   "source": [
    "ds.data_vars"
   ]
  },
  {
   "cell_type": "markdown",
   "metadata": {},
   "source": [
    "We can check the data_variables dimensions using dis.dims\n",
    "\n",
    "Number being the number of the Model"
   ]
  },
  {
   "cell_type": "code",
   "execution_count": null,
   "metadata": {},
   "outputs": [],
   "source": [
    "ds.dims"
   ]
  },
  {
   "cell_type": "markdown",
   "metadata": {},
   "source": [
    "Now we know the variable and the dimensions we can look at the shape of the variable."
   ]
  },
  {
   "cell_type": "code",
   "execution_count": null,
   "metadata": {},
   "outputs": [],
   "source": [
    "ds.dis24.shape"
   ]
  },
  {
   "cell_type": "markdown",
   "metadata": {},
   "source": [
    "Now we will open the Historical Simulations"
   ]
  },
  {
   "cell_type": "code",
   "execution_count": null,
   "metadata": {},
   "outputs": [],
   "source": [
    "clim = xr.open_dataset('../data/clim_151118.nc')\n",
    "clim\n"
   ]
  },
  {
   "cell_type": "markdown",
   "metadata": {},
   "source": [
    "Now we will plot a time series of the derived station by using its Lat and Lon, locating the nearest point"
   ]
  },
  {
   "cell_type": "code",
   "execution_count": null,
   "metadata": {},
   "outputs": [],
   "source": [
    "import pyproj\n",
    "inputEPSG = pyproj.Proj(init='epsg:4326')   # ref system EFAS-IS\n",
    "outputEPSG = pyproj.Proj(init='epsg:3035')  # ref system LISFLOOD\n",
    "\n",
    "x_lsf, y_lsf = pyproj.transform(inputEPSG, outputEPSG, float(station.StationLon.values), float(station.StationLat.values))\n",
    "\n",
    "# extract data for selected point in netcdf file by LISFLOOD coordinates\n",
    "dsloc = ds.sel(x=x_lsf,y=y_lsf,method='nearest')\n",
    "climloc = clim.sel(x=x_lsf,y=y_lsf,method='nearest')"
   ]
  },
  {
   "cell_type": "markdown",
   "metadata": {},
   "source": [
    "Now that we have a location in the dsloc and climloc variables we can plot the data.\n",
    "Below we will first align the data so that the time fields are in the same format and reference\n",
    "\n",
    "Historical Simulations are based on the 06UTC of the Date in the Time field\n",
    "Forecast fields are based on the timestep from the basetime."
   ]
  },
  {
   "cell_type": "code",
   "execution_count": null,
   "metadata": {},
   "outputs": [],
   "source": [
    "import numpy as np\n",
    "\n",
    "base=dsloc.time.values\n",
    "time=np.array([base+np.timedelta64(step) for step in dsloc.step.values])"
   ]
  },
  {
   "cell_type": "markdown",
   "metadata": {},
   "source": [
    "We will now construct a dataframe consisting of the Historical Dataset and Ensemble Members"
   ]
  },
  {
   "cell_type": "code",
   "execution_count": null,
   "metadata": {},
   "outputs": [],
   "source": [
    "df=pd.DataFrame({\n",
    "    'Historical_times':np.array(climloc.time.values+np.timedelta64(climloc.step.values)), # Historical Times from the Climatology File\n",
    "    'Historical': climloc.dis24.values, # Historical Data from the Climatology file\n",
    "    'TimeStep': time}) # Time data from the Ensemble Data file as Times (Base + Delta(\"STEP\"))\n",
    "\n",
    "for number in dsloc.number.values: #Include each member into the dataframe\n",
    "    df['Ensemble_Member_'+str(number)] = dsloc.dis24[number-1,:]\n",
    "    \n",
    "df.head() #Print a short list of the dataframe"
   ]
  },
  {
   "cell_type": "markdown",
   "metadata": {},
   "source": [
    "Now we will plot the members of the Dataframe"
   ]
  },
  {
   "cell_type": "code",
   "execution_count": null,
   "metadata": {
    "scrolled": true
   },
   "outputs": [],
   "source": [
    "%matplotlib notebook\n",
    "import matplotlib\n",
    "import matplotlib.pyplot as plot\n",
    "\n",
    "matplotlib.rcParams['figure.figsize'] = [12, 12]\n",
    "\n",
    "plot.figure(figsize=(10,10),num='EFAS ECMWF 50 Perturbed Members vs Historical Simulations')\n",
    "plot.title(\"Station : \" + station.StationName.to_string(index=False) + \n",
    "           \"\\n River : \" + station.River.to_string(index=False) +\n",
    "           \"\\n Catchment : \" + station.Catchment.to_string(index=False) +\n",
    "          \"\\n Latitude : \" + station.StationLat.to_string(index=False) +\n",
    "          \"\\n Longitude : \" + station.StationLon.to_string(index=False))\n",
    "plot.xlabel('TimeStep in 24h')\n",
    "plot.ylabel(dsloc.dis24.GRIB_name+' ' + dsloc.dis24.GRIB_units)\n",
    "plot.plot( 'Historical_times', 'Historical', data=df, marker='o', markerfacecolor='blue', markersize=12, color='blue', linewidth=2)\n",
    "for ens_member in df.filter(regex='Ensemble'):\n",
    "    plot.plot( 'TimeStep', ens_member, data=df, marker='', color='lightblue', linewidth=1, linestyle='dashed')\n",
    "plot.show()"
   ]
  },
  {
   "cell_type": "markdown",
   "metadata": {},
   "source": [
    "We can also look at the member distribution using a box plot\n",
    "This allows us to look at the spread of the ensemble values.\n",
    "And adding the Historical Simulations of Discharge on top as a Line Plot to see how they compare."
   ]
  },
  {
   "cell_type": "code",
   "execution_count": null,
   "metadata": {},
   "outputs": [],
   "source": [
    "%matplotlib notebook\n",
    "matplotlib.rcParams['figure.figsize'] = [12, 12]\n",
    "\n",
    "plot.figure(figsize=(10,10),num='EFAS ECMWF 50 Perturbed Members vs Historical Simulations Box Plot')\n",
    "df2=df.filter(like='Ensemble')\n",
    "plot.title(\"Station : \" + station.StationName.to_string(index=False) + \n",
    "           \"\\n River : \" + station.River.to_string(index=False) +\n",
    "           \"\\n Catchment : \" + station.Catchment.to_string(index=False) +\n",
    "          \"\\n Latitude : \" + station.StationLat.to_string(index=False) +\n",
    "          \"\\n Longitude : \" + station.StationLon.to_string(index=False))\n",
    "plot.ylabel(dsloc.dis24.GRIB_name+' ' + dsloc.dis24.GRIB_units)\n",
    "plot.xlabel('Days from Forecast Basetime ' + np.datetime_as_string(ds.time.values,unit='s'))\n",
    "# Here we add the 6 Hour Base time and 24h to the values just to align it for the box plot.\n",
    "plot.plot(df2.index+1.25,'Historical', data=df, marker='o', markerfacecolor='blue', markersize=12, color='blue', linewidth=2) \n",
    "plot.boxplot(df2)\n",
    "plot.legend()\n",
    "plot.show()"
   ]
  },
  {
   "cell_type": "code",
   "execution_count": null,
   "metadata": {},
   "outputs": [],
   "source": []
  }
 ],
 "metadata": {
  "kernelspec": {
   "display_name": "Python 3",
   "language": "python",
   "name": "python3"
  },
  "language_info": {
   "codemirror_mode": {
    "name": "ipython",
    "version": 3
   },
   "file_extension": ".py",
   "mimetype": "text/x-python",
   "name": "python",
   "nbconvert_exporter": "python",
   "pygments_lexer": "ipython3",
   "version": "3.6.5"
  }
 },
 "nbformat": 4,
 "nbformat_minor": 2
}
