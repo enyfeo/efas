{
 "cells": [
  {
   "cell_type": "markdown",
   "metadata": {},
   "source": [
    "# Example - Opening EFAS Grib File in Python"
   ]
  },
  {
   "cell_type": "markdown",
   "metadata": {},
   "source": [
    "This example will demonstrate using ECCODES and CFGRIB Python module in order to open the \n",
    "EFAS Grib file as an Xarray Dataset"
   ]
  },
  {
   "cell_type": "code",
   "execution_count": 5,
   "metadata": {},
   "outputs": [],
   "source": [
    "import xarray as xr\n",
    "import eccodes\n",
    "import cfgrib\n",
    "\n",
    "ds = xr.open_dataset('../data/mars.grib',engine='cfgrib',backend_kwargs={'indexpath':''})"
   ]
  },
  {
   "cell_type": "code",
   "execution_count": 6,
   "metadata": {},
   "outputs": [
    {
     "data": {
      "text/plain": [
       "<xarray.Dataset>\n",
       "Dimensions:     (values: 950000)\n",
       "Coordinates:\n",
       "    time        datetime64[ns] ...\n",
       "    step        timedelta64[ns] ...\n",
       "    surface     int64 ...\n",
       "    latitude    (values) float64 ...\n",
       "    longitude   (values) float64 ...\n",
       "    valid_time  datetime64[ns] ...\n",
       "Dimensions without coordinates: values\n",
       "Data variables:\n",
       "    dis24       (values) float32 ...\n",
       "Attributes:\n",
       "    GRIB_edition:            2\n",
       "    GRIB_centre:             ecmf\n",
       "    GRIB_centreDescription:  European Centre for Medium-Range Weather Forecasts\n",
       "    GRIB_subCentre:          0\n",
       "    Conventions:             CF-1.7\n",
       "    institution:             European Centre for Medium-Range Weather Forecasts\n",
       "    history:                 2019-04-10T12:48:40 GRIB to CDM+CF via cfgrib-0...."
      ]
     },
     "execution_count": 6,
     "metadata": {},
     "output_type": "execute_result"
    }
   ],
   "source": [
    "ds"
   ]
  },
  {
   "cell_type": "code",
   "execution_count": 7,
   "metadata": {},
   "outputs": [
    {
     "data": {
      "text/plain": [
       "array([66.982143  , 67.00974039, 67.03729255, ..., 23.89754271,\n",
       "       23.8797313 , 23.86189448])"
      ]
     },
     "execution_count": 7,
     "metadata": {},
     "output_type": "execute_result"
    }
   ],
   "source": [
    "ds.latitude.values"
   ]
  }
 ],
 "metadata": {
  "kernelspec": {
   "display_name": "Python 3",
   "language": "python",
   "name": "python3"
  },
  "language_info": {
   "codemirror_mode": {
    "name": "ipython",
    "version": 3
   },
   "file_extension": ".py",
   "mimetype": "text/x-python",
   "name": "python",
   "nbconvert_exporter": "python",
   "pygments_lexer": "ipython3",
   "version": "3.6.5"
  }
 },
 "nbformat": 4,
 "nbformat_minor": 2
}
