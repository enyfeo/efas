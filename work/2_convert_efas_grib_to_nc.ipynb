{
 "cells": [
  {
   "cell_type": "markdown",
   "metadata": {},
   "source": [
    "# Converting the EFAS Grib to NetCDF\n",
    "\n",
    "The Tool used to convert grib files to netcdf can be downloaded via github, please see the documentation pages.\n",
    "As it requires the installation of eccodes and a few other dependencies we have included it here to make things easier.\n",
    "\n",
    "The tool takes 2 input files, one is provided for you and the other can be any EFAS grib file\n",
    "downloaded from MARS, CDS or FTP."
   ]
  },
  {
   "cell_type": "code",
   "execution_count": null,
   "metadata": {},
   "outputs": [],
   "source": [
    "import efas_netcdf_tool.convert_to_netcdf as cn"
   ]
  },
  {
   "cell_type": "markdown",
   "metadata": {},
   "source": [
    "First we import the tool so that we can call it in Python\n",
    "\n",
    "Now we define the arguments to call the converter.\n",
    "\n",
    "EFAS_AREA is a static file provided with the tool that contains the Geographical bounds of the\n",
    "Lambert Azimuthal Equal Area Projection used by EFAS\n",
    "\n",
    "input is your source grib file\n",
    "output is the file you want to create in netcdf"
   ]
  },
  {
   "cell_type": "code",
   "execution_count": null,
   "metadata": {},
   "outputs": [],
   "source": [
    "efas_area = '../efas_netcdf_tool/efas_area.nc'# Static File provided within the EFAS_NetCDF Tool\n",
    "\n",
    "input = '../data/mars.grib'                   # Name of the input file (Provided in the Git Repo)\n",
    "output = '../data/clim_151118.nc'             # clim_DDMMYY.nc (Name of the output file)"
   ]
  },
  {
   "cell_type": "markdown",
   "metadata": {},
   "source": [
    "Now we will call the function to convert the grib file to netcdf"
   ]
  },
  {
   "cell_type": "code",
   "execution_count": null,
   "metadata": {},
   "outputs": [],
   "source": [
    "cn.convert(efas_area,input,output) "
   ]
  },
  {
   "cell_type": "markdown",
   "metadata": {},
   "source": [
    "Now we can open the file with xarray, As it is a NetCDF we do not need cfgrib engine to open it."
   ]
  },
  {
   "cell_type": "code",
   "execution_count": null,
   "metadata": {},
   "outputs": [],
   "source": [
    "import xarray as xr\n",
    "ds = xr.open_dataset(output)\n",
    "ds"
   ]
  },
  {
   "cell_type": "markdown",
   "metadata": {},
   "source": [
    "We can see using the ds.history attribute when the conversion happened and what versions of cfgrib and eccodes were used."
   ]
  },
  {
   "cell_type": "code",
   "execution_count": null,
   "metadata": {},
   "outputs": [],
   "source": [
    "ds.history"
   ]
  },
  {
   "cell_type": "markdown",
   "metadata": {},
   "source": [
    "We can see the Data Variable Information for the Climatology by typing ds.dis24"
   ]
  },
  {
   "cell_type": "code",
   "execution_count": null,
   "metadata": {},
   "outputs": [],
   "source": [
    "ds.dis24"
   ]
  }
 ],
 "metadata": {
  "kernelspec": {
   "display_name": "Python 3",
   "language": "python",
   "name": "python3"
  },
  "language_info": {
   "codemirror_mode": {
    "name": "ipython",
    "version": 3
   },
   "file_extension": ".py",
   "mimetype": "text/x-python",
   "name": "python",
   "nbconvert_exporter": "python",
   "pygments_lexer": "ipython3",
   "version": "3.6.5"
  }
 },
 "nbformat": 4,
 "nbformat_minor": 2
}
