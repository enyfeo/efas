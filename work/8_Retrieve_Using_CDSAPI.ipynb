{
 "cells": [
  {
   "cell_type": "markdown",
   "metadata": {},
   "source": [
    "# Retrieving Data using the CDS API "
   ]
  },
  {
   "cell_type": "markdown",
   "metadata": {},
   "source": [
    "CDSAPI is very similar to the MARS API that some of you may have used before.\n",
    "\n",
    "It uses a key file located in the users $HOME called .cdsapirc.\n",
    "\n",
    "Details on creating this file can be found here : [CDSAPI](https://cds.climate.copernicus.eu/api-how-to)\n",
    "\n",
    "If you are logged into the CDS your details will be displayed on the page :\n",
    "\n",
    "\n",
    "url: https://cds.climate.copernicus.eu/api/v2\n",
    "\n",
    "key: 0015:2b2da77f-6919-4a5d-8253-8366fe6d92d6\n"
   ]
  },
  {
   "cell_type": "code",
   "execution_count": 1,
   "metadata": {},
   "outputs": [],
   "source": [
    "import cdsapi"
   ]
  },
  {
   "cell_type": "markdown",
   "metadata": {},
   "source": [
    "We have created an example data request that can be sent to the CDS once you have generated the key into the file correctly.\n"
   ]
  },
  {
   "cell_type": "code",
   "execution_count": 2,
   "metadata": {},
   "outputs": [],
   "source": [
    "c = cdsapi.Client()"
   ]
  },
  {
   "cell_type": "markdown",
   "metadata": {},
   "source": [
    "If you see the error Missing/incomplete configuration file: \n",
    "/home/jovyan/.cdsapirc then you need to go and create the file."
   ]
  },
  {
   "cell_type": "code",
   "execution_count": 3,
   "metadata": {},
   "outputs": [
    {
     "name": "stderr",
     "output_type": "stream",
     "text": [
      "2019-05-16 18:34:21,590 INFO Sending request to https://cds.climate.copernicus.eu/api/v2/resources/efas-historical\n",
      "2019-05-16 18:34:21,872 INFO Request is completed\n",
      "2019-05-16 18:34:21,873 INFO Downloading http://136.156.132.105/cache-compute-0000/cache/data6/adaptor.efas_mars.external-1557914519.3880954-501-17-b5ec5b9a-c3ce-4db5-b72d-e845fb88c170.nc to ../data/download.nc (15.4M)\n",
      "2019-05-16 18:34:24,838 INFO Download rate 5.2M/s\n"
     ]
    },
    {
     "data": {
      "text/plain": [
       "Result(content_length=16192439,content_type=application/x-netcdf,location=http://136.156.132.105/cache-compute-0000/cache/data6/adaptor.efas_mars.external-1557914519.3880954-501-17-b5ec5b9a-c3ce-4db5-b72d-e845fb88c170.nc)"
      ]
     },
     "execution_count": 3,
     "metadata": {},
     "output_type": "execute_result"
    }
   ],
   "source": [
    "c.retrieve(\n",
    "    'efas-historical',\n",
    "    {    \n",
    "        'variable':'river_discharge',\n",
    "        'model_levels':'surface_level',\n",
    "        'hyear':'1991',\n",
    "        'hmonth':'january',\n",
    "        'hday':'3',\n",
    "        'format':'netcdf'\n",
    "    },\n",
    "    '../data/download.nc')"
   ]
  },
  {
   "cell_type": "code",
   "execution_count": 4,
   "metadata": {},
   "outputs": [
    {
     "data": {
      "text/plain": [
       "<xarray.Dataset>\n",
       "Dimensions:                       (x: 1000, y: 950)\n",
       "Coordinates:\n",
       "  * y                             (y) float64 5.498e+06 5.492e+06 ... 7.525e+05\n",
       "  * x                             (x) float64 2.502e+06 2.508e+06 ... 7.498e+06\n",
       "    time                          datetime64[ns] ...\n",
       "    step                          timedelta64[ns] ...\n",
       "    surface                       int64 ...\n",
       "    latitude                      (y, x) float32 ...\n",
       "    longitude                     (y, x) float32 ...\n",
       "    valid_time                    datetime64[ns] ...\n",
       "Data variables:\n",
       "    dis24                         (y, x) float32 ...\n",
       "    lambert_azimuthal_equal_area  int32 ...\n",
       "    land_binary_mask              (y, x) int8 ...\n",
       "    upArea                        (y, x) float32 ...\n",
       "Attributes:\n",
       "    GRIB_edition:            2\n",
       "    GRIB_centre:             ecmf\n",
       "    GRIB_centreDescription:  European Centre for Medium-Range Weather Forecasts\n",
       "    GRIB_subCentre:          0\n",
       "    Conventions:             CF-1.7\n",
       "    institution:             European Centre for Medium-Range Weather Forecasts\n",
       "    history:                 2019-05-15T10:02:23 GRIB to CDM+CF via cfgrib-0...."
      ]
     },
     "execution_count": 4,
     "metadata": {},
     "output_type": "execute_result"
    }
   ],
   "source": [
    "import xarray as xr\n",
    "ds=xr.open_dataset('../data/download.nc')\n",
    "ds"
   ]
  },
  {
   "cell_type": "code",
   "execution_count": null,
   "metadata": {},
   "outputs": [],
   "source": []
  }
 ],
 "metadata": {
  "kernelspec": {
   "display_name": "Python 3",
   "language": "python",
   "name": "python3"
  },
  "language_info": {
   "codemirror_mode": {
    "name": "ipython",
    "version": 3
   },
   "file_extension": ".py",
   "mimetype": "text/x-python",
   "name": "python",
   "nbconvert_exporter": "python",
   "pygments_lexer": "ipython3",
   "version": "3.6.5"
  }
 },
 "nbformat": 4,
 "nbformat_minor": 2
}
