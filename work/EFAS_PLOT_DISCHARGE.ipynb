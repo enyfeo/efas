{
 "cells": [
  {
   "cell_type": "markdown",
   "metadata": {},
   "source": [
    "# This is an Example of using Xarray on the EFAS NetCDF File"
   ]
  },
  {
   "cell_type": "markdown",
   "metadata": {},
   "source": [
    "First we use Xarray to Open the Dataset so we can see the contents"
   ]
  },
  {
   "cell_type": "code",
   "execution_count": null,
   "metadata": {},
   "outputs": [],
   "source": [
    "import xarray as xr\n",
    "\n",
    "ds = xr.open_dataset('../data/clim_151118.nc')"
   ]
  },
  {
   "cell_type": "code",
   "execution_count": null,
   "metadata": {},
   "outputs": [],
   "source": [
    "ds"
   ]
  },
  {
   "cell_type": "markdown",
   "metadata": {},
   "source": [
    "We can see that the file contains X and Y, Latitude and Longitude, Information about the Lambert_Azimuthal_Equal_Area Projection and a variable called dis24. Discharge over the last 24 Hour Period.\n",
    "\n",
    "To Access the values in the file we can simply type"
   ]
  },
  {
   "cell_type": "code",
   "execution_count": null,
   "metadata": {
    "scrolled": true
   },
   "outputs": [],
   "source": [
    "%matplotlib notebook\n",
    "import matplotlib.pyplot as plot\n",
    "from mpl_toolkits.basemap import Basemap,cm\n",
    "import numpy as np\n",
    "import pandas as pd\n",
    "\n",
    "plot.figure(figsize=(10,10),num='EFAS Data in matplotlib with Jupyter')\n",
    "\n",
    "m = Basemap(width=5400000,height=5000000,\n",
    "            resolution='l',projection='laea',\\\n",
    "            lat_ts=70,lat_0=50,lon_0=20.)\n",
    "\n",
    "m.drawparallels(np.arange(-80.,81.,20.),labels=[False, True, True, False])\n",
    "m.drawmeridians(np.arange(-180.,181.,20.), labels=[True,False,False,True])\n",
    "m.drawmapboundary(fill_color='white')\n",
    "m.drawcoastlines(color='grey')\n",
    "m.drawcountries(color='grey')\n",
    "m.fillcontinents()\n",
    "cmap = plot.cm.get_cmap('jet')\n",
    "cmap.set_under('white')\n",
    "x,y=m(ds.longitude.values,ds.latitude.values)\n",
    "sc = plot.contour(x,y,ds.dis24[1,:,:].values,500,vmin=1)\n",
    "plot.title(ds.dis24.GRIB_name+ \"\\n BASETIME : \"+np.datetime_as_string(ds.dis24[0,:,:].time.values,'h'))\n",
    "cbar = plot.colorbar(sc, shrink=.5,)\n",
    "cbar.set_label(ds.dis24.GRIB_name)\n",
    "plot.show()"
   ]
  }
 ],
 "metadata": {
  "kernelspec": {
   "display_name": "Python 3",
   "language": "python",
   "name": "python3"
  },
  "language_info": {
   "codemirror_mode": {
    "name": "ipython",
    "version": 3
   },
   "file_extension": ".py",
   "mimetype": "text/x-python",
   "name": "python",
   "nbconvert_exporter": "python",
   "pygments_lexer": "ipython3",
   "version": "3.6.5"
  }
 },
 "nbformat": 4,
 "nbformat_minor": 2
}
