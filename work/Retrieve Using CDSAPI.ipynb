{
 "cells": [
  {
   "cell_type": "markdown",
   "metadata": {},
   "source": [
    "# Retrieving Data using the CDS API "
   ]
  },
  {
   "cell_type": "markdown",
   "metadata": {},
   "source": [
    "CDSAPI is very similar to the MARS API that some of you may have used before.\n",
    "\n",
    "It uses a key file located in the users $HOME called .cdsapirc.\n",
    "\n",
    "Details on creating this file can be found here : [CDSAPI](https://cds.climate.copernicus.eu/api-how-to)\n",
    "\n",
    "If you are logged into the CDS your details will be displayed on the page :\n",
    "\n",
    "\n",
    "url: https://cds.climate.copernicus.eu/api/v2\n",
    "\n",
    "key: 0015:2b2da77f-6919-4a5d-8253-8366fe6d92d6\n"
   ]
  },
  {
   "cell_type": "code",
   "execution_count": null,
   "metadata": {},
   "outputs": [],
   "source": [
    "import cdsapi"
   ]
  },
  {
   "cell_type": "markdown",
   "metadata": {},
   "source": [
    "We have created an example data request that can be sent to the CDS once you have generated the key into the file correctly.\n"
   ]
  },
  {
   "cell_type": "code",
   "execution_count": null,
   "metadata": {},
   "outputs": [],
   "source": [
    "c = cdsapi.Client()"
   ]
  },
  {
   "cell_type": "markdown",
   "metadata": {},
   "source": [
    "If you see the error Missing/incomplete configuration file: \n",
    "/home/jovyan/.cdsapirc then you need to go and create the file."
   ]
  },
  {
   "cell_type": "code",
   "execution_count": null,
   "metadata": {},
   "outputs": [],
   "source": [
    "c.retrieve(\n",
    "    'efas-historical',\n",
    "    {    \n",
    "        'variable':'river_discharge',\n",
    "        'model_levels':'surface_level',\n",
    "        'hyear':'1991',\n",
    "        'hmonth':'january',\n",
    "        'hday':'3',\n",
    "        'format':'netcdf'\n",
    "    },\n",
    "    '../data/download.nc')"
   ]
  },
  {
   "cell_type": "code",
   "execution_count": null,
   "metadata": {},
   "outputs": [],
   "source": [
    "import xarray as xr\n",
    "ds=xr.open_dataset('../data/download.nc')\n",
    "ds"
   ]
  }
 ],
 "metadata": {
  "kernelspec": {
   "display_name": "Python 3",
   "language": "python",
   "name": "python3"
  },
  "language_info": {
   "codemirror_mode": {
    "name": "ipython",
    "version": 3
   },
   "file_extension": ".py",
   "mimetype": "text/x-python",
   "name": "python",
   "nbconvert_exporter": "python",
   "pygments_lexer": "ipython3",
   "version": "3.6.5"
  }
 },
 "nbformat": 4,
 "nbformat_minor": 2
}
