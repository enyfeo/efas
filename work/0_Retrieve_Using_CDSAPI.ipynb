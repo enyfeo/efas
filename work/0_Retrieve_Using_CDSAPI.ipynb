{
 "cells": [
  {
   "cell_type": "markdown",
   "metadata": {},
   "source": [
    "# Retrieving Data using the CDS API "
   ]
  },
  {
   "cell_type": "markdown",
   "metadata": {},
   "source": [
    "CDSAPI is very similar to the MARS API that some of you may have used before.\n",
    "\n",
    "It uses a key file located in the users $HOME called .cdsapirc.\n",
    "\n",
    "Details on creating this file can be found here : [CDSAPI](https://cds.climate.copernicus.eu/api-how-to)\n",
    "\n",
    "If you are logged into the CDS your details will be displayed on the page :\n",
    "\n",
    "\n",
    "url: https://cds.climate.copernicus.eu/api/v2\n",
    "\n",
    "key: 0015:2b2da77f-6919-4a5d-8253-8366fe6d92d6\n",
    "\n",
    "Please copy this .cdsapirc file to root directory of the git repository you downloaded.\n"
   ]
  },
  {
   "cell_type": "code",
   "execution_count": null,
   "metadata": {},
   "outputs": [],
   "source": [
    "import cdsapi"
   ]
  },
  {
   "cell_type": "markdown",
   "metadata": {},
   "source": [
    "We have created an example data request that can be sent to the CDS once you have generated the key into the file \n",
    "correctly.\n",
    "If you receive an error here then you need to install your API Key as mentioned above.\n",
    "A copy should be placed in the git repository root so it can be accessed by the jupyter."
   ]
  },
  {
   "cell_type": "code",
   "execution_count": null,
   "metadata": {},
   "outputs": [],
   "source": [
    "c = cdsapi.Client()"
   ]
  },
  {
   "cell_type": "markdown",
   "metadata": {},
   "source": [
    "If you see the error Missing/incomplete configuration file: \n",
    "/home/jovyan/.cdsapirc then you need to go and create the file."
   ]
  },
  {
   "cell_type": "code",
   "execution_count": null,
   "metadata": {},
   "outputs": [],
   "source": [
    "c.retrieve(\n",
    "    'efas-historical',\n",
    "    {    \n",
    "        'variable':'river_discharge',\n",
    "        'model_levels':'surface_level',\n",
    "        'hyear':'1991',\n",
    "        'hmonth':'january',\n",
    "        'hday':'3',\n",
    "        'simulation_version':'version_3',\n",
    "        'format':'netcdf'\n",
    "    },\n",
    "    '../data/download.nc')"
   ]
  },
  {
   "cell_type": "code",
   "execution_count": null,
   "metadata": {},
   "outputs": [],
   "source": [
    "import xarray as xr\n",
    "ds=xr.open_dataset('../data/download.nc')\n",
    "ds"
   ]
  },
  {
   "cell_type": "markdown",
   "metadata": {},
   "source": [
    "We need some data for a later exercise so please execute the cell below to begin the download.\n",
    "\n"
   ]
  },
  {
   "cell_type": "code",
   "execution_count": null,
   "metadata": {},
   "outputs": [],
   "source": [
    "\n",
    "c.retrieve(\n",
    "    'efas-forecast',\n",
    "    {\n",
    "        'origin':'ecmwf',\n",
    "        'type':'ensemble_perturbed_forecast',\n",
    "        'variable':'river_discharge_in_the_last_24_hours',\n",
    "        'model_levels':'surface_level',\n",
    "        'year':'2018',\n",
    "        'month':'11',\n",
    "        'day':'15',\n",
    "        'time':'00:00',\n",
    "        'step':[\n",
    "            '24','48','72',\n",
    "            '96','120','144',\n",
    "            '168','192','216',\n",
    "            '240','264','288',\n",
    "            '312','336','360'\n",
    "        ],\n",
    "        'format':'netcdf'\n",
    "    },\n",
    "    '../data/eue_15111800.nc')"
   ]
  },
  {
   "cell_type": "code",
   "execution_count": null,
   "metadata": {},
   "outputs": [],
   "source": [
    "c.retrieve(\n",
    "    'efas-forecast',\n",
    "    {\n",
    "        'origin':'ecmwf',\n",
    "        'type':'high_resolution_forecast',\n",
    "        'variable':[\n",
    "            'soil_depth','volumetric_soil_moisture'\n",
    "        ],\n",
    "        'model_levels':'soil_levels',\n",
    "        'soil_level':[\n",
    "            '1','2','3'\n",
    "        ],\n",
    "        'year':'2019',\n",
    "        'month':'01',\n",
    "        'day':'30',\n",
    "        'time':'00:00',\n",
    "        'step':[\n",
    "            '0','102','108',\n",
    "            '114','12','120',\n",
    "            '126','132','138',\n",
    "            '144','150','156',\n",
    "            '162','168','174',\n",
    "            '18','180','186',\n",
    "            '192','198','204',\n",
    "            '210','216','222',\n",
    "            '228','234','24',\n",
    "            '240','30','36',\n",
    "            '42','48','54',\n",
    "            '6','60','66',\n",
    "            '72','78','84',\n",
    "            '90','96'\n",
    "        ],\n",
    "        'format':'netcdf'\n",
    "    },\n",
    "    '../data/eud.nc')"
   ]
  }
 ],
 "metadata": {
  "kernelspec": {
   "display_name": "Python 3",
   "language": "python",
   "name": "python3"
  },
  "language_info": {
   "codemirror_mode": {
    "name": "ipython",
    "version": 3
   },
   "file_extension": ".py",
   "mimetype": "text/x-python",
   "name": "python",
   "nbconvert_exporter": "python",
   "pygments_lexer": "ipython3",
   "version": "3.6.5"
  }
 },
 "nbformat": 4,
 "nbformat_minor": 2
}
