{
 "cells": [
  {
   "cell_type": "markdown",
   "metadata": {},
   "source": [
    "# Calculating the Soil Wetness Index"
   ]
  },
  {
   "cell_type": "markdown",
   "metadata": {},
   "source": [
    "In this example we will plot the Soil Moisture as done on the EFAS Website"
   ]
  },
  {
   "cell_type": "markdown",
   "metadata": {},
   "source": [
    "First we open the 6 static files and the 1 data file for the ECMWF HRES Model.\n",
    "\n",
    "We will only be working on Layer 1 and 2 in this example.\n",
    "\n",
    "[Soil Wetness Index Calculation](https://confluence.ecmwf.int/display/COPSRV/Soil+wetness+index+calculation)"
   ]
  },
  {
   "cell_type": "code",
   "execution_count": null,
   "metadata": {},
   "outputs": [],
   "source": [
    "import numpy as np\n",
    "import xarray as xr\n",
    "\n",
    "thmin1 = xr.open_dataset('../static/thmin1.nc')\n",
    "thmin2 = xr.open_dataset('../static/thmin2.nc')\n",
    "thmin3 = xr.open_dataset('../static/thmin3.nc')\n",
    "thmax1 = xr.open_dataset('../static/thmax1.nc')\n",
    "thmax2 = xr.open_dataset('../static/thmax2.nc')\n",
    "thmax3 = xr.open_dataset('../static/thmax3.nc')\n",
    "ds = xr.open_dataset('../data/eud.nc')\n"
   ]
  },
  {
   "cell_type": "markdown",
   "metadata": {},
   "source": [
    "We have 3 layers of Volumetric Soil Moisture which we need to get the mean across all timesteps"
   ]
  },
  {
   "cell_type": "code",
   "execution_count": null,
   "metadata": {},
   "outputs": [],
   "source": [
    "import warnings; warnings.simplefilter('ignore')\n",
    "mean_vsw = ds.vsw.mean('step') # Mean Volumetric Soil Moisture for all time steps\n",
    "th1 = mean_vsw[0,:,:]          # Mean Volumetric Soil Moisture for Layer 1\n",
    "th2 = mean_vsw[1,:,:]          # Mean Volumetric Soil Moisture for Layer 2"
   ]
  },
  {
   "cell_type": "markdown",
   "metadata": {},
   "source": [
    "We need to have the values for the first and second soil depths\n",
    "\n",
    "Layer 2 includes Layer 1 so we need to remove 2 from 1\n",
    "\n",
    "All Layers are the same through out so we use step 1\n",
    "\n",
    "In this instance the shape is ds.sod['step', 'level', 'y', 'x']"
   ]
  },
  {
   "cell_type": "code",
   "execution_count": null,
   "metadata": {},
   "outputs": [],
   "source": [
    "sd1 = ds.sod[0,0,:,:].values\n",
    "sd2 = ds.sod[0,1,:,:].values - ds.sod[0,0,:,:].values"
   ]
  },
  {
   "cell_type": "markdown",
   "metadata": {},
   "source": [
    "Now we calculate the mean wilting point"
   ]
  },
  {
   "cell_type": "code",
   "execution_count": null,
   "metadata": {},
   "outputs": [],
   "source": [
    "data=(thmin1.wiltingpoint.values * sd1 + thmin2.wiltingpoint.values * sd2)/(sd1 + sd2)\n",
    "thmin = xr.DataArray(data,dims=(ds.y.name,ds.x.name),name='thmin')\n",
    "ds['thmin'] = thmin"
   ]
  },
  {
   "cell_type": "markdown",
   "metadata": {},
   "source": [
    "Now we calculate the field capacity"
   ]
  },
  {
   "cell_type": "code",
   "execution_count": null,
   "metadata": {},
   "outputs": [],
   "source": [
    "data=(thmax2.fieldcapacity.values * sd1 + thmax2.fieldcapacity.values * sd2)/(sd1 + sd2)\n",
    "thmax = xr.DataArray(data,dims=(ds.y.name,ds.x.name),name='thmax')\n",
    "ds['thmax'] = thmax"
   ]
  },
  {
   "cell_type": "markdown",
   "metadata": {},
   "source": [
    "Now we calculate the mean soil moisture for layer 1 and 2"
   ]
  },
  {
   "cell_type": "code",
   "execution_count": null,
   "metadata": {},
   "outputs": [],
   "source": [
    "data=((th1 * sd1) + (th2 * sd2))/(sd1 +sd2)\n",
    "smtot = xr.DataArray(data,dims=(ds.y.name,ds.x.name),name='smtot')\n",
    "ds['smtot'] = smtot "
   ]
  },
  {
   "cell_type": "markdown",
   "metadata": {},
   "source": [
    "Now we calculate the soil wetness index"
   ]
  },
  {
   "cell_type": "code",
   "execution_count": null,
   "metadata": {},
   "outputs": [],
   "source": [
    "data=(((smtot - thmin)/(thmax - thmin)))\n",
    "SM = xr.DataArray(data,dims=(ds.y.name,ds.x.name),name='SM')\n",
    "ds['SM'] = SM"
   ]
  },
  {
   "cell_type": "code",
   "execution_count": null,
   "metadata": {},
   "outputs": [],
   "source": [
    "def make_cmap(colors, position=None):\n",
    "    '''\n",
    "    make_cmap takes a list of tuples which contain RGB values. \n",
    "    The RGB values are [0 to 255] \n",
    "    make_cmap returns a cmap with equally spaced colors.\n",
    "    Arrange your tuples so that the first color is the lowest value for the\n",
    "    colorbar and the last is the highest.\n",
    "    position contains values from 0 to 1 to dictate the location of each color.\n",
    "    '''\n",
    "    import matplotlib as mpl\n",
    "    import numpy as np\n",
    "    import sys\n",
    "    bit_rgb = np.linspace(0,1,256)\n",
    "    if position == None:\n",
    "        position = np.linspace(0,1,len(colors))\n",
    "    else:\n",
    "        if len(position) != len(colors):\n",
    "            sys.exit(\"position length must be the same as colors\")\n",
    "        elif position[0] != 0 or position[-1] != 1:\n",
    "            sys.exit(\"position must start with 0 and end with 1\")\n",
    "    for i in range(len(colors)):\n",
    "        colors[i] = (bit_rgb[colors[i][0]],\n",
    "                     bit_rgb[colors[i][1]],\n",
    "                     bit_rgb[colors[i][2]])\n",
    "    cdict = {'red':[], 'green':[], 'blue':[]}\n",
    "    for pos, color in zip(position, colors):\n",
    "        cdict['red'].append((pos, color[0], color[0]))\n",
    "        cdict['green'].append((pos, color[1], color[1]))\n",
    "        cdict['blue'].append((pos, color[2], color[2]))\n",
    "\n",
    "    cmap = mpl.colors.LinearSegmentedColormap('my_colormap',cdict,256)\n",
    "    return cmap\n"
   ]
  },
  {
   "cell_type": "code",
   "execution_count": null,
   "metadata": {
    "scrolled": false
   },
   "outputs": [],
   "source": [
    "%matplotlib notebook\n",
    "from matplotlib.pyplot import colorbar\n",
    "import matplotlib.pyplot as plot\n",
    "from mpl_toolkits.basemap import Basemap,cm\n",
    "import numpy as np\n",
    "import pandas as pd\n",
    "plot.figure(figsize=(10,10),num='EFAS Data in matplotlib with Jupyter')\n",
    "\n",
    "m = Basemap(width=5400000,height=5000000,\n",
    "            resolution='l',projection='laea',\\\n",
    "            lat_ts=72,lat_0=50,lon_0=18.)\n",
    "\n",
    "m.drawparallels(np.arange(-80.,81.,20.),labels=[False, True, True, False])\n",
    "m.drawmeridians(np.arange(-180.,181.,20.), labels=[True,False,False,True])\n",
    "m.drawmapboundary(fill_color='white')\n",
    "m.drawcoastlines(color='grey')\n",
    "m.drawcountries(color='grey')\n",
    "m.fillcontinents()\n",
    "\n",
    "colors = [(64,0,3), (133,8,3), (249,0,0), (250,106,0), (249,210,0), (189,248,255), (92,138,255), (0,98,255), (0,0,255), (0,0,88)]\n",
    "### Create an array or list of positions from 0 to 1.\n",
    "position = [0, 0.2, 0.3,0.4,0.5,0.6,0.7,0.8,0.9,1]\n",
    "\n",
    "cmap = make_cmap(colors, position=position)\n",
    "#cmap.set_under('white')\n",
    "x,y=m(ds.longitude.values,ds.latitude.values)\n",
    "sc = plot.contour(x,y,ds.SM[:,:].values,300,vmin=0,cmap=cmap,vmax=1)\n",
    "plot.title('Mean Soil Moisture over 10 days\\n BASETIME : ' +  np.datetime_as_string(ds.time.values,'h'))\n",
    "cbar = colorbar(shrink=0.5,ticks=np.linspace(0.1,1.0,10,endpoint=True))\n",
    "cbar.set_label(ds.SM.name)\n",
    "plot.show()"
   ]
  },
  {
   "cell_type": "code",
   "execution_count": null,
   "metadata": {},
   "outputs": [],
   "source": []
  }
 ],
 "metadata": {
  "kernelspec": {
   "display_name": "Python 3",
   "language": "python",
   "name": "python3"
  },
  "language_info": {
   "codemirror_mode": {
    "name": "ipython",
    "version": 3
   },
   "file_extension": ".py",
   "mimetype": "text/x-python",
   "name": "python",
   "nbconvert_exporter": "python",
   "pygments_lexer": "ipython3",
   "version": "3.6.5"
  }
 },
 "nbformat": 4,
 "nbformat_minor": 2
}
