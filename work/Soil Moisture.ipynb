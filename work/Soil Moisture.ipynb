{
 "cells": [
  {
   "cell_type": "code",
   "execution_count": 1,
   "metadata": {},
   "outputs": [],
   "source": [
    "import xarray as xr"
   ]
  },
  {
   "cell_type": "code",
   "execution_count": 2,
   "metadata": {},
   "outputs": [],
   "source": [
    "thmin1 = xr.open_dataset('../static/thmin1.nc')\n",
    "thmin2 = xr.open_dataset('../static/thmin2.nc')\n",
    "thmin3 = xr.open_dataset('../static/thmin3.nc')\n",
    "thmax1 = xr.open_dataset('../static/thmax1.nc')\n",
    "thmax2 = xr.open_dataset('../static/thmax2.nc')\n",
    "thmax3 = xr.open_dataset('../static/thmax3.nc')"
   ]
  },
  {
   "cell_type": "code",
   "execution_count": 3,
   "metadata": {},
   "outputs": [
    {
     "data": {
      "text/plain": [
       "<xarray.Dataset>\n",
       "Dimensions:       (x: 1000, y: 950)\n",
       "Coordinates:\n",
       "  * x             (x) float64 2.502e+06 2.508e+06 ... 7.492e+06 7.498e+06\n",
       "  * y             (y) float64 5.498e+06 5.492e+06 ... 7.575e+05 7.525e+05\n",
       "Data variables:\n",
       "    wiltingpoint  (y, x) float32 ...\n",
       "Attributes:\n",
       "    CDI:              Climate Data Interface version 1.8.2 (http://mpimet.mpg...\n",
       "    Conventions:      CF-1.6\n",
       "    history:          Tue Dec 11 15:43:13 2018: cdo setname,wiltingpoint test...\n",
       "    source:           Lisflood European maps - pb2015\n",
       "    conventions:      CF-1.6\n",
       "    source_software:  Python netCDF3_Classic\n",
       "    title:            Lisflood maps for European setting Januar 2015\n",
       "    keywords:         Lisflood, Europe\n",
       "    institition:      JRC H01\n",
       "    CDO:              Climate Data Operators version 1.8.2 (http://mpimet.mpg..."
      ]
     },
     "execution_count": 3,
     "metadata": {},
     "output_type": "execute_result"
    }
   ],
   "source": [
    "thmin1\n"
   ]
  },
  {
   "cell_type": "code",
   "execution_count": 4,
   "metadata": {},
   "outputs": [
    {
     "name": "stdout",
     "output_type": "stream",
     "text": [
      "[[       nan        nan        nan ...        nan        nan        nan]\n",
      " [       nan        nan        nan ...        nan        nan        nan]\n",
      " [       nan        nan        nan ...        nan        nan        nan]\n",
      " ...\n",
      " [0.09212092 0.09190817 0.09188069 ... 0.0949     0.09475    0.09475   ]\n",
      " [0.09204807 0.09193418 0.0919711  ... 0.09472    0.09475    0.09475   ]\n",
      " [0.09204063 0.09197115 0.09200723 ... 0.09475    0.09475    0.09475   ]]\n"
     ]
    }
   ],
   "source": [
    "print(thmin1.wiltingpoint.values)"
   ]
  },
  {
   "cell_type": "code",
   "execution_count": null,
   "metadata": {},
   "outputs": [],
   "source": []
  }
 ],
 "metadata": {
  "kernelspec": {
   "display_name": "Python 3",
   "language": "python",
   "name": "python3"
  },
  "language_info": {
   "codemirror_mode": {
    "name": "ipython",
    "version": 3
   },
   "file_extension": ".py",
   "mimetype": "text/x-python",
   "name": "python",
   "nbconvert_exporter": "python",
   "pygments_lexer": "ipython3",
   "version": "3.6.5"
  }
 },
 "nbformat": 4,
 "nbformat_minor": 2
}
